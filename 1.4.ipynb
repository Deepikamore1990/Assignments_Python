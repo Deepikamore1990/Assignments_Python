{
 "cells": [
  {
   "cell_type": "code",
   "execution_count": null,
   "id": "47fc8a6b",
   "metadata": {},
   "outputs": [],
   "source": [
    "# Write a python program to display a user entered name followed by Good Afternoon using input() function"
   ]
  },
  {
   "cell_type": "code",
   "execution_count": 3,
   "id": "a5b2dc08",
   "metadata": {},
   "outputs": [
    {
     "name": "stdout",
     "output_type": "stream",
     "text": [
      "Enter your name\n",
      " Deepika\n",
      "Good Afternoon  Deepika\n"
     ]
    }
   ],
   "source": [
    "name = input (\"Enter your name\\n \")\n",
    "print(\"Good Afternoon \",name)"
   ]
  },
  {
   "cell_type": "code",
   "execution_count": null,
   "id": "2517531b",
   "metadata": {},
   "outputs": [],
   "source": [
    "# Write a letter with using python program"
   ]
  },
  {
   "cell_type": "code",
   "execution_count": 7,
   "id": "55842348",
   "metadata": {},
   "outputs": [
    {
     "name": "stdout",
     "output_type": "stream",
     "text": [
      "Enter Your name\n",
      "Deepika\n",
      "Enter Date\n",
      "15th June 2024\n",
      " Dear Deepika\n",
      "Your are selected!\n",
      "Date : 15th June 2024\n",
      "\n"
     ]
    }
   ],
   "source": [
    "letter = ''' Dear <|NAME|>\n",
    "Your are selected!\n",
    "Date : <|DATE|>\n",
    "'''\n",
    "name = input(\"Enter Your name\\n\")\n",
    "date = input(\"Enter Date\\n\")\n",
    "letter = letter.replace(\"<|NAME|>\", name)\n",
    "letter = letter.replace(\"<|DATE|>\", date)\n",
    "\n",
    "print (letter)"
   ]
  },
  {
   "cell_type": "code",
   "execution_count": null,
   "id": "0af69f98",
   "metadata": {},
   "outputs": [],
   "source": [
    "#Write a program to detect double spaces in a string"
   ]
  },
  {
   "cell_type": "code",
   "execution_count": 9,
   "id": "fa769a07",
   "metadata": {},
   "outputs": [
    {
     "name": "stdout",
     "output_type": "stream",
     "text": [
      "28\n"
     ]
    }
   ],
   "source": [
    "st = (\"This is a string with double  spaces\")\n",
    "doublespaces=st.find(\"  \")\n",
    "print(doublespaces)"
   ]
  },
  {
   "cell_type": "code",
   "execution_count": null,
   "id": "7e3e3022",
   "metadata": {},
   "outputs": [],
   "source": [
    "#Replace the bouble spaces with single space"
   ]
  },
  {
   "cell_type": "code",
   "execution_count": 10,
   "id": "65cd1b8e",
   "metadata": {},
   "outputs": [
    {
     "name": "stdout",
     "output_type": "stream",
     "text": [
      "This is a string with double spaces\n"
     ]
    }
   ],
   "source": [
    "st = (\"This is a string with double  spaces\")\n",
    "doublespaces=st.replace(\"  \", \" \")\n",
    "print(doublespaces)"
   ]
  },
  {
   "cell_type": "code",
   "execution_count": null,
   "id": "45bc4f2a",
   "metadata": {},
   "outputs": [],
   "source": []
  }
 ],
 "metadata": {
  "kernelspec": {
   "display_name": "Python 3 (ipykernel)",
   "language": "python",
   "name": "python3"
  },
  "language_info": {
   "codemirror_mode": {
    "name": "ipython",
    "version": 3
   },
   "file_extension": ".py",
   "mimetype": "text/x-python",
   "name": "python",
   "nbconvert_exporter": "python",
   "pygments_lexer": "ipython3",
   "version": "3.11.5"
  }
 },
 "nbformat": 4,
 "nbformat_minor": 5
}
