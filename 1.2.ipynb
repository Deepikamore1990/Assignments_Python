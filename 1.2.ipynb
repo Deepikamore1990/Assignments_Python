{
 "cells": [
  {
   "cell_type": "code",
   "execution_count": 1,
   "id": "41bce0fe",
   "metadata": {},
   "outputs": [
    {
     "name": "stdout",
     "output_type": "stream",
     "text": [
      "Entre First NameDeepika\n"
     ]
    }
   ],
   "source": [
    "First_Name = input('Entre First Name')"
   ]
  },
  {
   "cell_type": "code",
   "execution_count": 2,
   "id": "a303af68",
   "metadata": {},
   "outputs": [
    {
     "name": "stdout",
     "output_type": "stream",
     "text": [
      "Entre Last NameKhedekar\n"
     ]
    }
   ],
   "source": [
    "Last_Name = input('Entre Last Name')"
   ]
  },
  {
   "cell_type": "code",
   "execution_count": 3,
   "id": "14018ecc",
   "metadata": {},
   "outputs": [
    {
     "data": {
      "text/plain": [
       "'Deepika Khedekar'"
      ]
     },
     "execution_count": 3,
     "metadata": {},
     "output_type": "execute_result"
    }
   ],
   "source": [
    "Name = First_Name+' '+Last_Name\n",
    "Name"
   ]
  },
  {
   "cell_type": "code",
   "execution_count": 4,
   "id": "a436d044",
   "metadata": {},
   "outputs": [
    {
     "data": {
      "text/plain": [
       "'rakedehK akipeeD'"
      ]
     },
     "execution_count": 4,
     "metadata": {},
     "output_type": "execute_result"
    }
   ],
   "source": [
    "Name[::-1]"
   ]
  },
  {
   "cell_type": "code",
   "execution_count": null,
   "id": "9d13e7ec",
   "metadata": {},
   "outputs": [],
   "source": []
  }
 ],
 "metadata": {
  "kernelspec": {
   "display_name": "Python 3 (ipykernel)",
   "language": "python",
   "name": "python3"
  },
  "language_info": {
   "codemirror_mode": {
    "name": "ipython",
    "version": 3
   },
   "file_extension": ".py",
   "mimetype": "text/x-python",
   "name": "python",
   "nbconvert_exporter": "python",
   "pygments_lexer": "ipython3",
   "version": "3.11.5"
  }
 },
 "nbformat": 4,
 "nbformat_minor": 5
}
