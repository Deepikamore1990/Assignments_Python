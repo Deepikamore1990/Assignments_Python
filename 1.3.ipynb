{
 "cells": [
  {
   "cell_type": "code",
   "execution_count": null,
   "id": "85a2732e",
   "metadata": {},
   "outputs": [],
   "source": [
    "#1 Write a program to print Twinkle twinle little star poem in python"
   ]
  },
  {
   "cell_type": "code",
   "execution_count": 1,
   "id": "27e2f914",
   "metadata": {},
   "outputs": [
    {
     "name": "stdout",
     "output_type": "stream",
     "text": [
      "Twinkle, twinkle, little star,\n",
      "How I wonder what you are!\n",
      "Up above the world so high,\n",
      "Like a diamond in the sky.\n",
      "\n"
     ]
    }
   ],
   "source": [
    "print ('''Twinkle, twinkle, little star,\n",
    "How I wonder what you are!\n",
    "Up above the world so high,\n",
    "Like a diamond in the sky.\n",
    "''')"
   ]
  },
  {
   "cell_type": "code",
   "execution_count": null,
   "id": "fa4541cd",
   "metadata": {},
   "outputs": [],
   "source": [
    "#2 Use REPL and print the table of 5 using it"
   ]
  },
  {
   "cell_type": "code",
   "execution_count": 2,
   "id": "f938fdc4",
   "metadata": {},
   "outputs": [
    {
     "data": {
      "text/plain": [
       "5"
      ]
     },
     "execution_count": 2,
     "metadata": {},
     "output_type": "execute_result"
    }
   ],
   "source": [
    "5*1"
   ]
  },
  {
   "cell_type": "code",
   "execution_count": 3,
   "id": "e42ad71f",
   "metadata": {},
   "outputs": [
    {
     "data": {
      "text/plain": [
       "10"
      ]
     },
     "execution_count": 3,
     "metadata": {},
     "output_type": "execute_result"
    }
   ],
   "source": [
    "5*2"
   ]
  },
  {
   "cell_type": "code",
   "execution_count": 4,
   "id": "94d3b812",
   "metadata": {},
   "outputs": [
    {
     "data": {
      "text/plain": [
       "15"
      ]
     },
     "execution_count": 4,
     "metadata": {},
     "output_type": "execute_result"
    }
   ],
   "source": [
    "5*3"
   ]
  },
  {
   "cell_type": "code",
   "execution_count": 5,
   "id": "01d235a8",
   "metadata": {},
   "outputs": [
    {
     "data": {
      "text/plain": [
       "20"
      ]
     },
     "execution_count": 5,
     "metadata": {},
     "output_type": "execute_result"
    }
   ],
   "source": [
    "5*4"
   ]
  },
  {
   "cell_type": "code",
   "execution_count": 6,
   "id": "0ad6f9c9",
   "metadata": {},
   "outputs": [
    {
     "data": {
      "text/plain": [
       "25"
      ]
     },
     "execution_count": 6,
     "metadata": {},
     "output_type": "execute_result"
    }
   ],
   "source": [
    "5*5"
   ]
  },
  {
   "cell_type": "code",
   "execution_count": 7,
   "id": "73ec5823",
   "metadata": {},
   "outputs": [
    {
     "data": {
      "text/plain": [
       "30"
      ]
     },
     "execution_count": 7,
     "metadata": {},
     "output_type": "execute_result"
    }
   ],
   "source": [
    "5*6"
   ]
  },
  {
   "cell_type": "code",
   "execution_count": 8,
   "id": "b1b1d870",
   "metadata": {},
   "outputs": [
    {
     "data": {
      "text/plain": [
       "35"
      ]
     },
     "execution_count": 8,
     "metadata": {},
     "output_type": "execute_result"
    }
   ],
   "source": [
    "5*7"
   ]
  },
  {
   "cell_type": "code",
   "execution_count": 9,
   "id": "1e5def41",
   "metadata": {},
   "outputs": [
    {
     "data": {
      "text/plain": [
       "40"
      ]
     },
     "execution_count": 9,
     "metadata": {},
     "output_type": "execute_result"
    }
   ],
   "source": [
    "5*8"
   ]
  },
  {
   "cell_type": "code",
   "execution_count": 10,
   "id": "2ade98a0",
   "metadata": {},
   "outputs": [
    {
     "data": {
      "text/plain": [
       "45"
      ]
     },
     "execution_count": 10,
     "metadata": {},
     "output_type": "execute_result"
    }
   ],
   "source": [
    "5*9"
   ]
  },
  {
   "cell_type": "code",
   "execution_count": 11,
   "id": "9806f826",
   "metadata": {},
   "outputs": [
    {
     "data": {
      "text/plain": [
       "50"
      ]
     },
     "execution_count": 11,
     "metadata": {},
     "output_type": "execute_result"
    }
   ],
   "source": [
    "5*10"
   ]
  },
  {
   "cell_type": "code",
   "execution_count": null,
   "id": "8f71ad98",
   "metadata": {},
   "outputs": [],
   "source": [
    "#3 Write a python program to print the contents od a directory using OS module. Search online for the function which does that"
   ]
  },
  {
   "cell_type": "code",
   "execution_count": 12,
   "id": "f2699fef",
   "metadata": {},
   "outputs": [
    {
     "name": "stdout",
     "output_type": "stream",
     "text": [
      "['.anaconda', '.conda', '.condarc', '.continuum', '.ipynb_checkpoints', '.ipython', '.jupyter', '.matplotlib', '.ms-ad', '04-03-2024.ipynb', '1.3.ipynb', '12th March Python Practice.ipynb', '13th March Python Practice.ipynb', '14,15,16 March 2024.ipynb', '17 March.ipynb', '3D Objects', 'AppData', 'Application Data', 'Chapter 1.ipynb', 'Contacts', 'Cookies', 'Data Clening.ipynb', 'Desktop', 'Documents', 'Downloads', 'edb_languagepack_4.exe', 'edb_npgsql.exe', 'edb_pgagent_pg16.exe', 'edb_pgbouncer.exe', 'edb_pgjdbc.exe', 'edb_psqlodbc.exe', 'edb_psqlodbc.exe-20240410202658', 'Favorites', 'Indian AI - Practice 29-02-2024_Pandas.ipynb', 'IntelGraphicsProfiles', 'Links', 'Local Settings', 'Microsoft', 'Music', 'My Documents', 'NetHood', 'NTUSER.DAT', 'ntuser.dat.LOG1', 'ntuser.dat.LOG2', 'NTUSER.DAT{53b39e88-18c4-11ea-a811-000d3aa4692b}.TM.blf', 'NTUSER.DAT{53b39e88-18c4-11ea-a811-000d3aa4692b}.TMContainer00000000000000000001.regtrans-ms', 'NTUSER.DAT{53b39e88-18c4-11ea-a811-000d3aa4692b}.TMContainer00000000000000000002.regtrans-ms', 'ntuser.ini', 'OneDrive', 'Pictures', 'postgresql_12.exe', 'postgresql_13.exe', 'postgresql_14.exe', 'postgresql_15.exe', 'postgresql_16.exe', 'PrintHood', 'Python Practice_26-02-2024.ipynb', 'Python Practice_28-02-2024.ipynb', 'Python_CSV file import.ipynb', 'Recent', 'Saved Games', 'Searches', 'SendTo', 'Start Menu', 'Templates', 'Untitled Folder', 'Untitled Folder 1', 'Untitled.ipynb', 'Untitled1.ipynb', 'Videos']\n"
     ]
    }
   ],
   "source": [
    "import os\n",
    "print (os.listdir())"
   ]
  },
  {
   "cell_type": "code",
   "execution_count": null,
   "id": "f40dbf5e",
   "metadata": {},
   "outputs": [],
   "source": [
    "#write a python program to add two numbers"
   ]
  },
  {
   "cell_type": "code",
   "execution_count": 13,
   "id": "7acef0e0",
   "metadata": {},
   "outputs": [
    {
     "name": "stdout",
     "output_type": "stream",
     "text": [
      "The sum of a and b is 38\n"
     ]
    }
   ],
   "source": [
    "a = 30\n",
    "b = 8\n",
    "print ('The sum of a and b is', a+b)"
   ]
  },
  {
   "cell_type": "code",
   "execution_count": null,
   "id": "905a394b",
   "metadata": {},
   "outputs": [],
   "source": [
    "#Check the type of variable assigned using input() function"
   ]
  },
  {
   "cell_type": "code",
   "execution_count": 14,
   "id": "c07cd217",
   "metadata": {},
   "outputs": [
    {
     "name": "stdout",
     "output_type": "stream",
     "text": [
      "Enter your nameDeepika\n"
     ]
    }
   ],
   "source": [
    "a = input(\"Enter your name\")"
   ]
  },
  {
   "cell_type": "code",
   "execution_count": 15,
   "id": "af947bdb",
   "metadata": {},
   "outputs": [
    {
     "data": {
      "text/plain": [
       "str"
      ]
     },
     "execution_count": 15,
     "metadata": {},
     "output_type": "execute_result"
    }
   ],
   "source": [
    "type(a)"
   ]
  },
  {
   "cell_type": "code",
   "execution_count": null,
   "id": "fddc3f3e",
   "metadata": {},
   "outputs": [],
   "source": [
    "#Use comparison operators to find our wherher a given variable a is greater than b or not"
   ]
  },
  {
   "cell_type": "code",
   "execution_count": 16,
   "id": "18bb9cc4",
   "metadata": {},
   "outputs": [
    {
     "data": {
      "text/plain": [
       "False"
      ]
     },
     "execution_count": 16,
     "metadata": {},
     "output_type": "execute_result"
    }
   ],
   "source": [
    "a=55\n",
    "b=98\n",
    "a>b"
   ]
  },
  {
   "cell_type": "code",
   "execution_count": null,
   "id": "cefdfaca",
   "metadata": {},
   "outputs": [],
   "source": [
    "#Write a python program to find average of two numbers enter by using input"
   ]
  },
  {
   "cell_type": "code",
   "execution_count": 19,
   "id": "4fb7510f",
   "metadata": {},
   "outputs": [
    {
     "name": "stdout",
     "output_type": "stream",
     "text": [
      "Enter your name: 15\n",
      "Enter your name: 10\n",
      "The avg of a and b is 12.5\n"
     ]
    }
   ],
   "source": [
    "a = input (\"Enter your name: \")\n",
    "b = input (\"Enter your name: \")\n",
    "a = int(a)\n",
    "b = int(b)\n",
    "avg = (a+b)/2\n",
    "avg = print(\"The avg of a and b is\", avg)"
   ]
  },
  {
   "cell_type": "code",
   "execution_count": null,
   "id": "17e950fe",
   "metadata": {},
   "outputs": [],
   "source": [
    "#write a python program to calculate square of a number entered by the users"
   ]
  },
  {
   "cell_type": "code",
   "execution_count": 20,
   "id": "7c091d26",
   "metadata": {},
   "outputs": [
    {
     "name": "stdout",
     "output_type": "stream",
     "text": [
      "enter number4\n",
      "the square of a is 16\n"
     ]
    }
   ],
   "source": [
    "a = input (\"enter number\")\n",
    "a = int(a)\n",
    "print(\"the square of a is\", a*a)"
   ]
  },
  {
   "cell_type": "code",
   "execution_count": null,
   "id": "27565d06",
   "metadata": {},
   "outputs": [],
   "source": []
  }
 ],
 "metadata": {
  "kernelspec": {
   "display_name": "Python 3 (ipykernel)",
   "language": "python",
   "name": "python3"
  },
  "language_info": {
   "codemirror_mode": {
    "name": "ipython",
    "version": 3
   },
   "file_extension": ".py",
   "mimetype": "text/x-python",
   "name": "python",
   "nbconvert_exporter": "python",
   "pygments_lexer": "ipython3",
   "version": "3.11.5"
  }
 },
 "nbformat": 4,
 "nbformat_minor": 5
}
